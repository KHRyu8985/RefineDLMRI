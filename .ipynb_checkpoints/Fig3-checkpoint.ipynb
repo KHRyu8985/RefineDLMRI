{
 "cells": [
  {
   "cell_type": "code",
   "execution_count": 1,
   "id": "a7ccd78a",
   "metadata": {},
   "outputs": [],
   "source": [
    "import os, sys, h5py\n",
    "sys.path.append(\"train\")\n",
    "\n",
    "import matplotlib.pyplot as plt\n",
    "plt.rcParams[\"figure.figsize\"] = (10,10)\n",
    "from run_refine_vcc_spirit import runvccspirit\n",
    "from run_refine_spirit import runspirit\n",
    "from run_refine_espirit import runespirit\n"
   ]
  },
  {
   "cell_type": "code",
   "execution_count": null,
   "id": "c86a97c1",
   "metadata": {},
   "outputs": [
    {
     "name": "stderr",
     "output_type": "stream",
     "text": [
      "/home/kanghyun/projRefine/train/modl.py:153: UserWarning: where received a uint8 condition tensor. This behavior is deprecated and will be removed in a future version of PyTorch. Use a boolean condition instead. (Triggered internally at  ../aten/src/ATen/native/TensorCompare.cpp:328.)\n",
      "  out = torch.where(mask, (self.dc_weight * model_term + ref_kspace) / (1+self.dc_weight), model_term)\n"
     ]
    },
    {
     "name": "stdout",
     "output_type": "stream",
     "text": [
      "Calibrating SPIRIT........\n"
     ]
    },
    {
     "name": "stderr",
     "output_type": "stream",
     "text": [
      "ic| 'prefiltering w/ opth'\n"
     ]
    },
    {
     "name": "stdout",
     "output_type": "stream",
     "text": [
      "161/700 kernels used\n"
     ]
    },
    {
     "name": "stderr",
     "output_type": "stream",
     "text": [
      " 71%|███████▏  | 20/28 [01:03<00:56,  7.01s/it]"
     ]
    }
   ],
   "source": [
    "im_d, im_r, im_f = runvccspirit(30, 2, lam=10, R=6, nacs=21, im_type='Brain', option='img')\n",
    "\n"
   ]
  },
  {
   "cell_type": "code",
   "execution_count": null,
   "id": "a49a8060",
   "metadata": {},
   "outputs": [],
   "source": [
    "vmax_val = 5 # PD: 4 \n",
    "fig, ((ax1, ax2, ax3)) = plt.subplots(nrows=1,ncols=3,figsize=(15,5), dpi=600)\n",
    "\n",
    "ax1.imshow(sp.resize(np.abs(im_d),(200,200)), cmap='gray',vmax=vmax_val)\n",
    "ax1.axis('off')\n",
    "ax1.set_title('DL (R=4)',fontsize=20)\n",
    "\n",
    "\n",
    "ax2.imshow(sp.resize(np.abs(im_r),(200,200)), cmap='gray',vmax=vmax_val)\n",
    "ax2.axis('off')\n",
    "ax2.set_title('Refined',fontsize=20)\n",
    "\n",
    "           \n",
    "ax3.imshow(sp.resize(np.abs(im_f),(200,200)), cmap='gray',vmax=vmax_val)\n",
    "ax3.axis('off')\n",
    "ax3.set_title('Reference',fontsize=20)\n",
    "\n",
    "\n",
    "fig.tight_layout()\n",
    "\n",
    "\n"
   ]
  },
  {
   "cell_type": "code",
   "execution_count": null,
   "id": "9b159cb2",
   "metadata": {},
   "outputs": [],
   "source": []
  },
  {
   "cell_type": "code",
   "execution_count": null,
   "id": "f500b8d9",
   "metadata": {},
   "outputs": [],
   "source": []
  }
 ],
 "metadata": {
  "kernelspec": {
   "display_name": "Python [conda env:refine] *",
   "language": "python",
   "name": "conda-env-refine-py"
  },
  "language_info": {
   "codemirror_mode": {
    "name": "ipython",
    "version": 3
   },
   "file_extension": ".py",
   "mimetype": "text/x-python",
   "name": "python",
   "nbconvert_exporter": "python",
   "pygments_lexer": "ipython3",
   "version": "3.6.13"
  }
 },
 "nbformat": 4,
 "nbformat_minor": 5
}
